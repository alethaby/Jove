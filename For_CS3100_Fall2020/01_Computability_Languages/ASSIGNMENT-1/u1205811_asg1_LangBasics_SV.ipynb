{
  "nbformat": 4,
  "nbformat_minor": 0,
  "metadata": {
    "kernelspec": {
      "display_name": "Python 3",
      "language": "python",
      "name": "python3"
    },
    "language_info": {
      "codemirror_mode": {
        "name": "ipython",
        "version": 3
      },
      "file_extension": ".py",
      "mimetype": "text/x-python",
      "name": "python",
      "nbconvert_exporter": "python",
      "pygments_lexer": "ipython3",
      "version": "3.7.3"
    },
    "colab": {
      "name": "u1205811_asg1_LangBasics_SV.ipynb",
      "provenance": []
    }
  },
  "cells": [
    {
      "cell_type": "markdown",
      "metadata": {
        "id": "J4JsEDsIt9Ld",
        "colab_type": "text"
      },
      "source": [
        "# First let's import, then look for the assignment below"
      ]
    },
    {
      "cell_type": "code",
      "metadata": {
        "id": "7pAm5YGFt9Ln",
        "colab_type": "code",
        "colab": {}
      },
      "source": [
        "#~~~~~~~~~~~~~~~~~~~~~~~~~~~~~~~~~~~~~~~~~~~~~~~~~~~~~~~\n",
        "import sys\n",
        "\n",
        "# -- Detect if in Own Install or in Colab\n",
        "try:\n",
        "    import google.colab\n",
        "    OWN_INSTALL = False\n",
        "except:\n",
        "    OWN_INSTALL = True\n",
        "    \n",
        "if OWN_INSTALL:\n",
        "    \n",
        "  #---- Leave these definitions ON if running on laptop\n",
        "  #---- Else turn OFF by putting them between ''' ... '''\n",
        "\n",
        "  sys.path[0:0] = ['../../../../..',  '../../../../../3rdparty',  \n",
        "                   '../../../..',  '../../../../3rdparty',  \n",
        "                   '../../..',     '../../../3rdparty', \n",
        "                   '../..',        '../../3rdparty',\n",
        "                   '..',           '../3rdparty' ]\n",
        "\n",
        "else: # In colab\n",
        "  ! if [ ! -d Jove ]; then git clone https://github.com/ganeshutah/Jove Jove; fi\n",
        "  sys.path.append('./Jove')\n",
        "  sys.path.append('./Jove/jove')\n",
        "\n",
        "# -- common imports --\n",
        "from jove.LangDef   import *\n",
        "#~~~~~~~~~~~~~~~~~~~~~~~~~~~~~~~~~~~~~~~~~~~~~~~~~~~~~~~"
      ],
      "execution_count": null,
      "outputs": []
    },
    {
      "cell_type": "markdown",
      "metadata": {
        "id": "1luCsKlnt9Lu",
        "colab_type": "text"
      },
      "source": [
        "# Assignment-1 Problem-2 on Language Basics\n",
        "\n",
        "## Graded by Shashank Vadlamani (SV)\n",
        "\n",
        "### BEFORE YOU SUBMIT THIS FILE, PLEASE RENAME THIS FILE BY REPLACING THE 0000000 IN THE FILE NAME WITH YOUR CORRECT UNID. KEEP THE \"u\" AT THE BEGINNING.\n",
        "\n",
        "\n",
        " <font size=\"4\"> \n",
        "\n",
        "This problem helps you review the basics of languages, symbols, strings, concatenation, etc. It presents the material in the form of puzzles.  \n",
        "    \n",
        "Tasks for you:\n",
        " \n",
        "</font>"
      ]
    },
    {
      "cell_type": "markdown",
      "metadata": {
        "id": "aACBNeFMt9Lu",
        "colab_type": "text"
      },
      "source": [
        "<font size=\"4\"> \n",
        "\n",
        " \n",
        "1. If there are two languages $L_1$ and $L_2$, their concatenation has smaller size than their cartesian product if the following condition is met:\n",
        "    \n",
        "    **Their intersection is at least of size 2 and contains $\\varepsilon$**\n",
        "    \n",
        "    (The other aspects of the languages may be different.)\n",
        "    \n",
        "Your two tasks are described below.\n",
        "    \n",
        "</font>"
      ]
    },
    {
      "cell_type": "markdown",
      "metadata": {
        "id": "64VhM1Oyt9Lx",
        "colab_type": "text"
      },
      "source": [
        "# Space below for your arguments\n",
        "<font size=\"4\">\n",
        "\n",
        "\n",
        "</font>"
      ]
    },
    {
      "cell_type": "markdown",
      "metadata": {
        "id": "dL06JEegt9Ly",
        "colab_type": "text"
      },
      "source": [
        "## Now present code that supports or refutes the claim."
      ]
    },
    {
      "cell_type": "markdown",
      "metadata": {
        "id": "GtXy-L3zt9Lz",
        "colab_type": "text"
      },
      "source": [
        "# Task-1: Define two languages to print \"cat and product have the same size\" below. L1 and L2 must both contain $\\varepsilon$."
      ]
    },
    {
      "cell_type": "code",
      "metadata": {
        "id": "U3thOBxEt9L8",
        "colab_type": "code",
        "colab": {}
      },
      "source": [
        "L1 = ...a small finite language that contains epsilon...\n",
        "L2 = ...another small finite language that contains epsilon..."
      ],
      "execution_count": null,
      "outputs": []
    },
    {
      "cell_type": "code",
      "metadata": {
        "id": "4KUEt9qst9L_",
        "colab_type": "code",
        "colab": {}
      },
      "source": [
        "print(\"L1 and L2 are\", L1, L2)\n",
        "\n",
        "# Perform their contatenation \n",
        "\n",
        "catL1L2 = lcat(L1,L2)\n",
        "lencatL1L2 = len(catL1L2)\n",
        "\n",
        "print(\"Cat of L1 and L2 is\", catL1L2, \" of size \", lencatL1L2)\n",
        "\n",
        "# Perform their intersection\n",
        "\n",
        "intL1L2 = lint(L1,L2)\n",
        "lenintL1L2 = len(intL1L2)\n",
        "\n",
        "print(\"Intersection of L1 and L2 is\", intL1L2, \" of size \", lenintL1L2)\n",
        "\n",
        "# Make a statement of what you observe\n",
        "\n",
        "prodL1L2 = { (x,y) for x in L1 for y in L2 }\n",
        "lenprodL1L2 = len(prodL1L2)\n",
        "\n",
        "print(\"Product of L1 and L2 is\", prodL1L2, \" of size \", lenprodL1L2)\n",
        "\n",
        "if (lenprodL1L2 != lencatL1L2):\n",
        "    print(\" cat and product differ in size \")\n",
        "else:\n",
        "    print(\" cat and product have the same size \")\n",
        "    \n",
        " "
      ],
      "execution_count": null,
      "outputs": []
    },
    {
      "cell_type": "markdown",
      "metadata": {
        "id": "URR9G3wDt9MD",
        "colab_type": "text"
      },
      "source": [
        "#### The statements you are requested to make corresponding to the prints can be added below\n",
        "#### Did you choose the languages such that cat and intersection resulted in the same size?\n",
        "\n",
        "...\n",
        "...\n"
      ]
    },
    {
      "cell_type": "markdown",
      "metadata": {
        "id": "MnmxL80Kt9ME",
        "colab_type": "text"
      },
      "source": [
        "# Task-2: Define two languages to print \"cat and product differ in size\" below. L1 and L2 must both contain $\\varepsilon$."
      ]
    },
    {
      "cell_type": "code",
      "metadata": {
        "id": "nFxZfIbkt9ME",
        "colab_type": "code",
        "colab": {}
      },
      "source": [
        "L1 = ...a small finite language that contains epsilon...\n",
        "L2 = ...another small finite language that contains epsilon..."
      ],
      "execution_count": null,
      "outputs": []
    },
    {
      "cell_type": "code",
      "metadata": {
        "id": "VmT2Y3Mxt9MG",
        "colab_type": "code",
        "colab": {}
      },
      "source": [
        "print(\"L1 and L2 are\", L1, L2)\n",
        "\n",
        "# Perform their contatenation \n",
        "\n",
        "catL1L2 = lcat(L1,L2)\n",
        "lencatL1L2 = len(catL1L2)\n",
        "\n",
        "print(\"Cat of L1 and L2 is\", catL1L2, \" of size \", lencatL1L2)\n",
        "\n",
        "# Perform their intersection\n",
        "\n",
        "intL1L2 = lint(L1,L2)\n",
        "lenintL1L2 = len(intL1L2)\n",
        "\n",
        "print(\"Intersection of L1 and L2 is\", intL1L2, \" of size \", lenintL1L2)\n",
        "\n",
        "# Make a statement of what you observe\n",
        "\n",
        "prodL1L2 = { (x,y) for x in L1 for y in L2 }\n",
        "lenprodL1L2 = len(prodL1L2)\n",
        "\n",
        "print(\"Product of L1 and L2 is\", prodL1L2, \" of size \", lenprodL1L2)\n",
        "\n",
        "if (lenprodL1L2 != lencatL1L2):\n",
        "    print(\" cat and product differ in size \")\n",
        "else:\n",
        "    print(\" cat and product have the same size \")\n",
        "    \n",
        " "
      ],
      "execution_count": null,
      "outputs": []
    },
    {
      "cell_type": "markdown",
      "metadata": {
        "id": "rAG9r1d3t9MJ",
        "colab_type": "text"
      },
      "source": [
        "#### The statements you are requested to make corresponding to the prints can be added below\n",
        "#### Did you choose the languages such that cat and intersection resulted in different sizes?\n",
        "\n",
        "...\n",
        "...\n"
      ]
    }
  ]
}