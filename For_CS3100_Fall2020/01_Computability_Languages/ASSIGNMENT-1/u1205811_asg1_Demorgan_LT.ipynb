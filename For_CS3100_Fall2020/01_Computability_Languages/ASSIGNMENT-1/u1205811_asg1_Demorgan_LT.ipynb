{
  "nbformat": 4,
  "nbformat_minor": 0,
  "metadata": {
    "kernelspec": {
      "display_name": "Python 3",
      "language": "python",
      "name": "python3"
    },
    "language_info": {
      "codemirror_mode": {
        "name": "ipython",
        "version": 3
      },
      "file_extension": ".py",
      "mimetype": "text/x-python",
      "name": "python",
      "nbconvert_exporter": "python",
      "pygments_lexer": "ipython3",
      "version": "3.7.3"
    },
    "colab": {
      "name": "u1205811_asg1_Demorgan_LT.ipynb",
      "provenance": []
    }
  },
  "cells": [
    {
      "cell_type": "markdown",
      "metadata": {
        "id": "9sckHcwAuAjO",
        "colab_type": "text"
      },
      "source": [
        "# First let's import, then look for the assignment below"
      ]
    },
    {
      "cell_type": "code",
      "metadata": {
        "id": "6n9mF7GVuAjP",
        "colab_type": "code",
        "colab": {}
      },
      "source": [
        "#~~~~~~~~~~~~~~~~~~~~~~~~~~~~~~~~~~~~~~~~~~~~~~~~~~~~~~~\n",
        "import sys\n",
        "\n",
        "# -- Detect if in Own Install or in Colab\n",
        "try:\n",
        "    import google.colab\n",
        "    OWN_INSTALL = False\n",
        "except:\n",
        "    OWN_INSTALL = True\n",
        "    \n",
        "if OWN_INSTALL:\n",
        "    \n",
        "  #---- Leave these definitions ON if running on laptop\n",
        "  #---- Else turn OFF by putting them between ''' ... '''\n",
        "\n",
        "  sys.path[0:0] = ['../../../../..',  '../../../../../3rdparty',  \n",
        "                   '../../../..',  '../../../../3rdparty',  \n",
        "                   '../../..',     '../../../3rdparty', \n",
        "                   '../..',        '../../3rdparty',\n",
        "                   '..',           '../3rdparty' ]\n",
        "\n",
        "else: # In colab\n",
        "  ! if [ ! -d Jove ]; then git clone https://github.com/ganeshutah/Jove Jove; fi\n",
        "  sys.path.append('./Jove')\n",
        "  sys.path.append('./Jove/jove')\n",
        "\n",
        "# -- common imports --\n",
        "from jove.LangDef   import *\n",
        "#~~~~~~~~~~~~~~~~~~~~~~~~~~~~~~~~~~~~~~~~~~~~~~~~~~~~~~~"
      ],
      "execution_count": null,
      "outputs": []
    },
    {
      "cell_type": "markdown",
      "metadata": {
        "id": "MHMs01aMuAjV",
        "colab_type": "text"
      },
      "source": [
        "# Assignment-1 Problem-4 on DeMorgan's Law graded by Leon Tran (LT)\n",
        "\n",
        " \n",
        "\n",
        "### BEFORE YOU SUBMIT THIS FILE, PLEASE RENAME THIS FILE BY REPLACING THE 0000000 IN THE FILE NAME WITH YOUR CORRECT UNID. KEEP THE \"u\" AT THE BEGINNING.\n",
        "\n",
        "\n",
        " <font size=\"4\"> \n",
        "\n",
        "Let's illustrate DeMorgan's Law using Jove.  \n",
        "    \n",
        "</font>"
      ]
    },
    {
      "cell_type": "markdown",
      "metadata": {
        "id": "x4hcwIzauAjV",
        "colab_type": "text"
      },
      "source": [
        "# Define the universe $\\Sigma_4^*$ for the $\\Sigma$ given below, consulting Pages 28-29 of our book"
      ]
    },
    {
      "cell_type": "code",
      "metadata": {
        "id": "cC_6nWP0uAjW",
        "colab_type": "code",
        "colab": {}
      },
      "source": [
        "Sigma = {'a', 'b', 'c'}\n",
        "\n",
        "Sigma_4_Star = \"...DEFINE THE UNIVERSE SUITABLY\"\n"
      ],
      "execution_count": null,
      "outputs": []
    },
    {
      "cell_type": "markdown",
      "metadata": {
        "id": "7pq95YyouAjY",
        "colab_type": "text"
      },
      "source": [
        "# Illustrate DeMorgan's law with respect to these two sets:\n",
        "\n",
        "* $A = \\{a, \\varepsilon , bc\\}$\n",
        "\n",
        "* $B = \\{a, \\varepsilon, bba, ca\\}$\n",
        "\n",
        "## Specific instructions\n",
        "\n",
        "* Show, using Jove, that $\\overline{(A\\cup B)} = \\overline{A} \\cap \\overline{B}$. \n",
        "\n",
        "* Here, LHS = $\\overline{(A\\cup B)}$\n",
        "\n",
        "* And RHS = $\\overline{A} \\cap \\overline{B}$\n"
      ]
    },
    {
      "cell_type": "code",
      "metadata": {
        "id": "Jke6YRk9uAjb",
        "colab_type": "code",
        "colab": {}
      },
      "source": [
        "help(lcomplem) # read and follow"
      ],
      "execution_count": null,
      "outputs": []
    },
    {
      "cell_type": "code",
      "metadata": {
        "id": "nxBgLyWluAjd",
        "colab_type": "code",
        "colab": {}
      },
      "source": [
        "help(lunion) # read and follow"
      ],
      "execution_count": null,
      "outputs": []
    },
    {
      "cell_type": "code",
      "metadata": {
        "id": "THmB2vQMuAjf",
        "colab_type": "code",
        "colab": {}
      },
      "source": [
        "help(lint) # read and follow"
      ],
      "execution_count": null,
      "outputs": []
    },
    {
      "cell_type": "markdown",
      "metadata": {
        "id": "aSVnr-apuAji",
        "colab_type": "text"
      },
      "source": [
        "# OK, we are all set!"
      ]
    },
    {
      "cell_type": "code",
      "metadata": {
        "id": "Ve96BvQauAjj",
        "colab_type": "code",
        "colab": {}
      },
      "source": [
        "A = {'a', '' , 'bc'}\n",
        "\n",
        "B = {'a', '', 'bba', 'c'}"
      ],
      "execution_count": null,
      "outputs": []
    },
    {
      "cell_type": "code",
      "metadata": {
        "id": "2S4UGGUHuAjm",
        "colab_type": "code",
        "colab": {}
      },
      "source": [
        "\n",
        "LHS = \"..DEFINE THE LHS..\"\n",
        "\n",
        "RHS = \"..DEFINE THE RHS..\""
      ],
      "execution_count": null,
      "outputs": []
    },
    {
      "cell_type": "markdown",
      "metadata": {
        "id": "VaT-ilWbuAjo",
        "colab_type": "text"
      },
      "source": [
        "# Check DeMorgan's Law"
      ]
    },
    {
      "cell_type": "code",
      "metadata": {
        "id": "iltMJL2JuAjp",
        "colab_type": "code",
        "colab": {}
      },
      "source": [
        "# Now, perform LHS == RHS in Python and check if it is true\n",
        "\n",
        "LHS == RHS\n",
        "\n",
        "# Must print True"
      ],
      "execution_count": null,
      "outputs": []
    },
    {
      "cell_type": "markdown",
      "metadata": {
        "id": "jBpmkHRhuAjr",
        "colab_type": "text"
      },
      "source": [
        "# END "
      ]
    }
  ]
}